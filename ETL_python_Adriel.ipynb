{
  "nbformat": 4,
  "nbformat_minor": 0,
  "metadata": {
    "colab": {
      "provenance": [],
      "collapsed_sections": [
        "kNuP0SDUZMBY"
      ],
      "include_colab_link": true
    },
    "kernelspec": {
      "name": "python3",
      "display_name": "Python 3"
    },
    "language_info": {
      "name": "python"
    }
  },
  "cells": [
    {
      "cell_type": "markdown",
      "metadata": {
        "id": "view-in-github",
        "colab_type": "text"
      },
      "source": [
        "<a href=\"https://colab.research.google.com/github/adriel312/ETL_Python_SDW2023/blob/main/ETL_python_Adriel.ipynb\" target=\"_parent\"><img src=\"https://colab.research.google.com/assets/colab-badge.svg\" alt=\"Open In Colab\"/></a>"
      ]
    },
    {
      "cell_type": "markdown",
      "source": [
        "# Santander Dev Week 2023 (ETL com Python)"
      ],
      "metadata": {
        "id": "BPJQsTCULaC-"
      }
    },
    {
      "cell_type": "markdown",
      "source": [
        "**Contexto:** Essa é uma tabela com informações sobre o Campeonato Brasileiro de Futebol. Nela contem dados de todas as partidas entre os anos de 2003 a 2022. Algumas informações estão incompletas, pois não havia informação sobre dados dessa partida. Eu me propus a preencher os valores faltantes nas colucas de 'tecnico_mandante' e 'tecnico_visitante', para isso solicitei a API da OpenAI, as informações faltantes, e assim preenchi os dados NaN. Com isso implementei uma ETL utilizando Python, pandas e a API da OpenAI."
      ],
      "metadata": {
        "id": "k5fA5OrXt1a3"
      }
    },
    {
      "cell_type": "code",
      "source": [
        "# Link da base de dados em .csv: https://www.kaggle.com/datasets/adaoduque/campeonato-brasileiro-de-futebol/"
      ],
      "metadata": {
        "id": "FKqLC_CWoYqR"
      },
      "execution_count": null,
      "outputs": []
    },
    {
      "cell_type": "markdown",
      "source": [
        "## **E**xtract\n",
        "\n",
        "Extrai todas as informações da partida, contidas no CSV. Após, faço um filtro para selecionar as partidas superiores a 2008, pois dados antes de 2009 não se mostraram precisos."
      ],
      "metadata": {
        "id": "9dfI-o7gLRq9"
      }
    },
    {
      "cell_type": "code",
      "execution_count": null,
      "metadata": {
        "id": "NYydpX_GLRCB"
      },
      "outputs": [],
      "source": [
        "import pandas as pd\n",
        "\n",
        "df = pd.read_csv('campeonato-brasileiro-full.csv')\n",
        "#user_ids = df['tecnico_mandante'].tolist()\n",
        "\n",
        "#Converte a coluna 'data' para o tipo datetime com pandas\n",
        "df['data'] = pd.to_datetime(df['data'], format='%d/%m/%Y')\n",
        "\n",
        "#Cria uma condição para selecionar as linhas com data superior a 2008\n",
        "condicao = df['data'].dt.year > 2008\n",
        "\n",
        "#Usa a condição e seleciona as linhas que atendem\n",
        "df_filtrado = df[condicao]\n",
        "\n",
        "\n",
        "print (df_filtrado)"
      ]
    },
    {
      "cell_type": "markdown",
      "source": [
        "## **T**ransform\n",
        "\n",
        "Utilizei a API do OpenAI para buscar os nomes dos tecnicos faltantes na planilha CSV."
      ],
      "metadata": {
        "id": "cWoqInB4TF1x"
      }
    },
    {
      "cell_type": "code",
      "source": [
        "# Redefine o índice com o método reset_index\n",
        "df_filtrado.reset_index(drop=True, inplace=True)\n",
        "\n",
        "print(df_filtrado.loc[0]['data'])"
      ],
      "metadata": {
        "id": "QrYRh1QKsCr2"
      },
      "execution_count": null,
      "outputs": []
    },
    {
      "cell_type": "code",
      "source": [
        "!pip install openai"
      ],
      "metadata": {
        "id": "O--PCAObTQkK"
      },
      "execution_count": null,
      "outputs": []
    },
    {
      "cell_type": "code",
      "source": [
        "import openai\n",
        "\n",
        "# Documentação Oficial da API OpenAI: https://platform.openai.com/docs/api-reference/introduction\n",
        "# Informações sobre o Período Gratuito: https://help.openai.com/en/articles/4936830\n",
        "\n",
        "# Para gerar uma API Key:\n",
        "# 1. Crie uma conta na OpenAI\n",
        "# 2. Acesse a seção \"API Keys\"\n",
        "# 3. Clique em \"Create API Key\"\n",
        "# Link direto: https://platform.openai.com/account/api-keys\n",
        "\n",
        "# Substitua o texto TODO por sua API Key da OpenAI, ela será salva como uma variável de ambiente.\n",
        "openai.api_key = 'TODO'"
      ],
      "metadata": {
        "id": "sUB1doiDTX3y"
      },
      "execution_count": null,
      "outputs": []
    },
    {
      "cell_type": "code",
      "source": [
        "#Teste para gerar o nome de apenas um técnico, ao invés de percorrer todo o dataframe\n",
        "import openai\n",
        "\n",
        "prompt = f\"O nome do técnico do {df_filtrado.loc[0]['mandante']} na data de {df_filtrado.loc[0]['data']}, é:\"\n",
        "resposta = openai.Completion.create(\n",
        "            engine=\"text-davinci-002\",\n",
        "            prompt=prompt,\n",
        "            max_tokens=50,\n",
        "            temperature=0.7,\n",
        ")\n",
        "tecnico_mandante = resposta.choices[0].text.strip()\n",
        "df_filtrado.at[6 ,'tecnico_mandante'] = tecnico_mandante\n",
        "print(df_filtrado.loc[6])"
      ],
      "metadata": {
        "id": "XmrBhgkVwGw1"
      },
      "execution_count": null,
      "outputs": []
    },
    {
      "cell_type": "code",
      "source": [
        "# Função para preencher os nomes dos técnicos usando a API da OpenAI.\n",
        "def preencher_tecnicos(row):\n",
        "    if pd.isna(row['tecnico_mandante']):\n",
        "        # Faça a chamada à API para preencher o técnico do time mandante.\n",
        "        prompt = f\"O técnico do time mandante {row['mandante']} em {row['data']} é: \"\n",
        "        resposta = openai.Completion.create(\n",
        "            engine=\"text-davinci-002\",\n",
        "            prompt=prompt,\n",
        "            max_tokens=50,\n",
        "            temperature=0.7,\n",
        "        )\n",
        "        tecnico_mandante = resposta.choices[0].text.strip()\n",
        "    else:\n",
        "        tecnico_mandante = row['tecnico_mandante']\n",
        "\n",
        "    if pd.isna(row['tecnico_visitante']):\n",
        "        # Faça a chamada à API para preencher o técnico do time visitante.\n",
        "        prompt = f\"O técnico do time visitante {row['visitante']} em {row['data']} é: \"\n",
        "        resposta = openai.Completion.create(\n",
        "            engine=\"text-davinci-002\",\n",
        "            prompt=prompt,\n",
        "            max_tokens=50,\n",
        "            temperature=0.7,\n",
        "        )\n",
        "        tecnico_visitante = resposta.choices[0].text.strip()\n",
        "    else:\n",
        "        tecnico_visitante = row['tecnico_visitante']\n",
        "\n",
        "    return pd.Series([tecnico_mandante, tecnico_visitante], index=['tecnico_mandante', 'tecnico_visitante'])"
      ],
      "metadata": {
        "id": "4UT8wgyPrjVK"
      },
      "execution_count": null,
      "outputs": []
    },
    {
      "cell_type": "code",
      "source": [
        "print(df_filtrado)"
      ],
      "metadata": {
        "id": "SJnvwiu5sVKS"
      },
      "execution_count": null,
      "outputs": []
    },
    {
      "cell_type": "markdown",
      "source": [
        "## **L**oad\n",
        "\n",
        "Atualiza o dataframe e preenche o nome de todos os técncios faltantes."
      ],
      "metadata": {
        "id": "kNuP0SDUZMBY"
      }
    },
    {
      "cell_type": "code",
      "source": [
        "# Aplique a função 'preencher_tecnicos' para preencher as colunas NaN.\n",
        "df_filtrado[['tecnico_mandante', 'tecnico_visitante']] = df_filtrado.apply(preencher_tecnicos, axis=1)\n",
        "\n",
        "# Agora, 'df' contém as colunas de técnicos preenchidas usando a API da OpenAI."
      ],
      "metadata": {
        "id": "H2GGtZJ90enp"
      },
      "execution_count": null,
      "outputs": []
    }
  ]
}