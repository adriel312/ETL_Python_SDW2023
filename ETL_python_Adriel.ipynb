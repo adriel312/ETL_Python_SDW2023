{
  "nbformat": 4,
  "nbformat_minor": 0,
  "metadata": {
    "colab": {
      "provenance": [],
      "collapsed_sections": [
        "kNuP0SDUZMBY"
      ],
      "include_colab_link": true
    },
    "kernelspec": {
      "name": "python3",
      "display_name": "Python 3"
    },
    "language_info": {
      "name": "python"
    }
  },
  "cells": [
    {
      "cell_type": "markdown",
      "metadata": {
        "id": "view-in-github",
        "colab_type": "text"
      },
      "source": [
        "<a href=\"https://colab.research.google.com/github/adriel312/ETL_Python_SDW2023/blob/main/ETL_python_Adriel.ipynb\" target=\"_parent\"><img src=\"https://colab.research.google.com/assets/colab-badge.svg\" alt=\"Open In Colab\"/></a>"
      ]
    },
    {
      "cell_type": "markdown",
      "source": [
        "# Santander Dev Week 2023 (ETL com Python)"
      ],
      "metadata": {
        "id": "BPJQsTCULaC-"
      }
    },
    {
      "cell_type": "markdown",
      "source": [
        "**Contexto:** Essa é uma tabela com informações sobre o Campeonato Brasileiro de Futebol. Nela contem dados de todas as partidas entre os anos de 2003 a 2022. Algumas informações estão incompletas, pois não havia informação sobre dados dessa partida. Eu me propus a preencher os valores faltantes nas colucas de 'tecnico_mandante' e 'tecnico_visitante', para isso solicitei a API da OpenAI, as informações faltantes, e assim preenchi os dados NaN. Com isso implementei uma ETL utilizando Python, pandas e a API da OpenAI."
      ],
      "metadata": {
        "id": "k5fA5OrXt1a3"
      }
    },
    {
      "cell_type": "code",
      "source": [
        "# Link da base de dados em .csv: https://www.kaggle.com/datasets/adaoduque/campeonato-brasileiro-de-futebol/"
      ],
      "metadata": {
        "id": "FKqLC_CWoYqR"
      },
      "execution_count": null,
      "outputs": []
    },
    {
      "cell_type": "markdown",
      "source": [
        "## **E**xtract\n",
        "\n",
        "Extrai todas as informações da partida, contidas no CSV. Após, faço um filtro para selecionar as partidas superiores a 2008, pois dados antes de 2009 não se mostraram precisos."
      ],
      "metadata": {
        "id": "9dfI-o7gLRq9"
      }
    },
    {
      "cell_type": "code",
      "execution_count": 58,
      "metadata": {
        "id": "NYydpX_GLRCB",
        "outputId": "e2a7c0a1-be61-4252-d2c7-27904f799026",
        "colab": {
          "base_uri": "https://localhost:8080/"
        }
      },
      "outputs": [
        {
          "output_type": "stream",
          "name": "stdout",
          "text": [
            "        ID  rodada       data   hora       mandante      visitante  \\\n",
            "2706  2707       1 2009-05-09  18:30          Sport        Barueri   \n",
            "2707  2708       1 2009-05-09  18:30      Palmeiras       Coritiba   \n",
            "2708  2709       1 2009-05-09  18:30           Avai    Atletico-MG   \n",
            "2709  2710       1 2009-05-10  16:00    Corinthians  Internacional   \n",
            "2710  2711       1 2009-05-10  16:00     Fluminense      Sao Paulo   \n",
            "...    ...     ...        ...    ...            ...            ...   \n",
            "8020  8021      38 2022-11-13  16:03         Cuiaba       Coritiba   \n",
            "8021  8022      38 2022-11-13  16:03     Bragantino     Fluminense   \n",
            "8022  8023      38 2022-11-13  16:03    Corinthians    Atletico-MG   \n",
            "8023  8024      38 2022-11-13  16:03  Internacional      Palmeiras   \n",
            "8024  8025      38 2022-11-13  16:03          Goias      Sao Paulo   \n",
            "\n",
            "     formacao_mandante formacao_visitante        tecnico_mandante  \\\n",
            "2706               NaN                NaN                     NaN   \n",
            "2707               NaN                NaN                     NaN   \n",
            "2708               NaN                NaN                     NaN   \n",
            "2709               NaN                NaN                     NaN   \n",
            "2710               NaN                NaN                     NaN   \n",
            "...                ...                ...                     ...   \n",
            "8020           4-1-4-1            4-1-4-1  A. Cardoso de Oliveira   \n",
            "8021           4-2-3-1            4-2-3-1    M. Nogueira Barbieri   \n",
            "8022           4-1-4-1            4-2-3-1  F. J. Monteiro Almeida   \n",
            "8023           4-2-3-1            4-2-3-1    L. Venker de Menezes   \n",
            "8024           4-2-3-1          4-1-2-1-2      J. Ribeiro Ventura   \n",
            "\n",
            "        tecnico_visitante       vencedor                        arena  \\\n",
            "2706                  NaN              -               Ilha do Retiro   \n",
            "2707                  NaN      Palmeiras              Palestra Itália   \n",
            "2708                  NaN              -                    Ressacada   \n",
            "2709                  NaN  Internacional                     Pacaembu   \n",
            "2710                  NaN     Fluminense                     Maracanã   \n",
            "...                   ...            ...                          ...   \n",
            "8020          A. Ferreira         Cuiaba               Arena Pantanal   \n",
            "8021       F. Diniz Silva     Fluminense                      Nabizão   \n",
            "8022            A. Stival    Atletico-MG            Neo Química Arena   \n",
            "8023  A. Moreira Ferreira  Internacional  Estádio José Pinheiro Borda   \n",
            "8024              R. Ceni      Sao Paulo          Estádio da Serrinha   \n",
            "\n",
            "      mandante_Placar  visitante_Placar mandante_Estado visitante_Estado  \n",
            "2706                1                 1              PE               SP  \n",
            "2707                2                 1              SP               PR  \n",
            "2708                2                 2              SC               MG  \n",
            "2709                0                 1              SP               RS  \n",
            "2710                1                 0              RJ               SP  \n",
            "...               ...               ...             ...              ...  \n",
            "8020                2                 1              MT               PR  \n",
            "8021                0                 1              SP               RJ  \n",
            "8022                0                 1              SP               MG  \n",
            "8023                3                 0              RS               SP  \n",
            "8024                0                 4              GO               SP  \n",
            "\n",
            "[5319 rows x 16 columns]\n"
          ]
        }
      ],
      "source": [
        "import pandas as pd\n",
        "\n",
        "df = pd.read_csv('campeonato-brasileiro-full.csv')\n",
        "#user_ids = df['tecnico_mandante'].tolist()\n",
        "\n",
        "#Converte a coluna 'data' para o tipo datetime com pandas\n",
        "df['data'] = pd.to_datetime(df['data'], format='%d/%m/%Y')\n",
        "\n",
        "#Cria uma condição para selecionar as linhas com data superior a 2008\n",
        "condicao = df['data'].dt.year > 2008\n",
        "\n",
        "#Usa a condição e seleciona as linhas que atendem\n",
        "df_filtrado = df[condicao]\n",
        "\n",
        "\n",
        "print (df_filtrado)"
      ]
    },
    {
      "cell_type": "markdown",
      "source": [
        "## **T**ransform\n",
        "\n",
        "Utilizei a API do OpenAI para buscar os nomes dos tecnicos faltantes na planilha CSV."
      ],
      "metadata": {
        "id": "cWoqInB4TF1x"
      }
    },
    {
      "cell_type": "code",
      "source": [
        "# Redefine o índice com o método reset_index\n",
        "df_filtrado.reset_index(drop=True, inplace=True)\n",
        "\n",
        "print(df_filtrado.loc[0]['data'])"
      ],
      "metadata": {
        "colab": {
          "base_uri": "https://localhost:8080/"
        },
        "id": "QrYRh1QKsCr2",
        "outputId": "6ef2906e-713a-4931-8ab6-23b82457cfcb"
      },
      "execution_count": 59,
      "outputs": [
        {
          "output_type": "stream",
          "name": "stdout",
          "text": [
            "2009-05-09 00:00:00\n"
          ]
        }
      ]
    },
    {
      "cell_type": "code",
      "source": [
        "!pip install openai"
      ],
      "metadata": {
        "id": "O--PCAObTQkK",
        "colab": {
          "base_uri": "https://localhost:8080/"
        },
        "outputId": "2b767565-3e2d-4e77-e9c6-850111b8f6fa"
      },
      "execution_count": 5,
      "outputs": [
        {
          "output_type": "stream",
          "name": "stdout",
          "text": [
            "Collecting openai\n",
            "  Downloading openai-0.28.1-py3-none-any.whl (76 kB)\n",
            "\u001b[?25l     \u001b[90m━━━━━━━━━━━━━━━━━━━━━━━━━━━━━━━━━━━━━━━━\u001b[0m \u001b[32m0.0/77.0 kB\u001b[0m \u001b[31m?\u001b[0m eta \u001b[36m-:--:--\u001b[0m\r\u001b[2K     \u001b[90m━━━━━━━━━━━━━━━━━━━━━━━━━━━━━━━━━━━━━━━━\u001b[0m \u001b[32m77.0/77.0 kB\u001b[0m \u001b[31m2.3 MB/s\u001b[0m eta \u001b[36m0:00:00\u001b[0m\n",
            "\u001b[?25hRequirement already satisfied: requests>=2.20 in /usr/local/lib/python3.10/dist-packages (from openai) (2.31.0)\n",
            "Requirement already satisfied: tqdm in /usr/local/lib/python3.10/dist-packages (from openai) (4.66.1)\n",
            "Requirement already satisfied: aiohttp in /usr/local/lib/python3.10/dist-packages (from openai) (3.8.5)\n",
            "Requirement already satisfied: charset-normalizer<4,>=2 in /usr/local/lib/python3.10/dist-packages (from requests>=2.20->openai) (3.3.0)\n",
            "Requirement already satisfied: idna<4,>=2.5 in /usr/local/lib/python3.10/dist-packages (from requests>=2.20->openai) (3.4)\n",
            "Requirement already satisfied: urllib3<3,>=1.21.1 in /usr/local/lib/python3.10/dist-packages (from requests>=2.20->openai) (2.0.6)\n",
            "Requirement already satisfied: certifi>=2017.4.17 in /usr/local/lib/python3.10/dist-packages (from requests>=2.20->openai) (2023.7.22)\n",
            "Requirement already satisfied: attrs>=17.3.0 in /usr/local/lib/python3.10/dist-packages (from aiohttp->openai) (23.1.0)\n",
            "Requirement already satisfied: multidict<7.0,>=4.5 in /usr/local/lib/python3.10/dist-packages (from aiohttp->openai) (6.0.4)\n",
            "Requirement already satisfied: async-timeout<5.0,>=4.0.0a3 in /usr/local/lib/python3.10/dist-packages (from aiohttp->openai) (4.0.3)\n",
            "Requirement already satisfied: yarl<2.0,>=1.0 in /usr/local/lib/python3.10/dist-packages (from aiohttp->openai) (1.9.2)\n",
            "Requirement already satisfied: frozenlist>=1.1.1 in /usr/local/lib/python3.10/dist-packages (from aiohttp->openai) (1.4.0)\n",
            "Requirement already satisfied: aiosignal>=1.1.2 in /usr/local/lib/python3.10/dist-packages (from aiohttp->openai) (1.3.1)\n",
            "Installing collected packages: openai\n",
            "Successfully installed openai-0.28.1\n"
          ]
        }
      ]
    },
    {
      "cell_type": "code",
      "source": [
        "import openai\n",
        "\n",
        "# Documentação Oficial da API OpenAI: https://platform.openai.com/docs/api-reference/introduction\n",
        "# Informações sobre o Período Gratuito: https://help.openai.com/en/articles/4936830\n",
        "\n",
        "# Para gerar uma API Key:\n",
        "# 1. Crie uma conta na OpenAI\n",
        "# 2. Acesse a seção \"API Keys\"\n",
        "# 3. Clique em \"Create API Key\"\n",
        "# Link direto: https://platform.openai.com/account/api-keys\n",
        "\n",
        "# Substitua o texto TODO por sua API Key da OpenAI, ela será salva como uma variável de ambiente.\n",
        "openai.api_key = 'TODO'
      ],
      "metadata": {
        "id": "sUB1doiDTX3y"
      },
      "execution_count": 6,
      "outputs": []
    },
    {
      "cell_type": "code",
      "source": [
        "#Teste para gerar o nome de apenas um técnico, ao invés de percorrer todo o dataframe\n",
        "import openai\n",
        "\n",
        "prompt = f\"O nome do técnico do {df_filtrado.loc[0]['mandante']} na data de {df_filtrado.loc[0]['data']}, é:\"\n",
        "resposta = openai.Completion.create(\n",
        "            engine=\"text-davinci-002\",\n",
        "            prompt=prompt,\n",
        "            max_tokens=50,\n",
        "            temperature=0.7,\n",
        ")\n",
        "tecnico_mandante = resposta.choices[0].text.strip()\n",
        "df_filtrado.at[6 ,'tecnico_mandante'] = tecnico_mandante\n",
        "print(df_filtrado.loc[6])"
      ],
      "metadata": {
        "colab": {
          "base_uri": "https://localhost:8080/"
        },
        "id": "XmrBhgkVwGw1",
        "outputId": "e4ddb9a8-f7ab-43a3-8434-194bd8740a4f"
      },
      "execution_count": 61,
      "outputs": [
        {
          "output_type": "stream",
          "name": "stdout",
          "text": [
            "ID                                                                 2713\n",
            "rodada                                                                1\n",
            "data                                                2009-05-10 00:00:00\n",
            "hora                                                              16:00\n",
            "mandante                                                       Cruzeiro\n",
            "visitante                                                      Flamengo\n",
            "formacao_mandante                                                   NaN\n",
            "formacao_visitante                                                  NaN\n",
            "tecnico_mandante      O técnico do Sport na data de 2009-05-09 00:00...\n",
            "tecnico_visitante                                                   NaN\n",
            "vencedor                                                       Cruzeiro\n",
            "arena                                                          Mineirão\n",
            "mandante_Placar                                                       2\n",
            "visitante_Placar                                                      0\n",
            "mandante_Estado                                                      MG\n",
            "visitante_Estado                                                     RJ\n",
            "Name: 6, dtype: object\n"
          ]
        }
      ]
    },
    {
      "cell_type": "code",
      "source": [
        "# Função para preencher os nomes dos técnicos usando a API da OpenAI.\n",
        "def preencher_tecnicos(row):\n",
        "    if pd.isna(row['tecnico_mandante']):\n",
        "        # Faça a chamada à API para preencher o técnico do time mandante.\n",
        "        prompt = f\"O técnico do time mandante {row['mandante']} em {row['data']} é: \"\n",
        "        resposta = openai.Completion.create(\n",
        "            engine=\"text-davinci-002\",\n",
        "            prompt=prompt,\n",
        "            max_tokens=50,\n",
        "            temperature=0.7,\n",
        "        )\n",
        "        tecnico_mandante = resposta.choices[0].text.strip()\n",
        "    else:\n",
        "        tecnico_mandante = row['tecnico_mandante']\n",
        "\n",
        "    if pd.isna(row['tecnico_visitante']):\n",
        "        # Faça a chamada à API para preencher o técnico do time visitante.\n",
        "        prompt = f\"O técnico do time visitante {row['visitante']} em {row['data']} é: \"\n",
        "        resposta = openai.Completion.create(\n",
        "            engine=\"text-davinci-002\",\n",
        "            prompt=prompt,\n",
        "            max_tokens=50,\n",
        "            temperature=0.7,\n",
        "        )\n",
        "        tecnico_visitante = resposta.choices[0].text.strip()\n",
        "    else:\n",
        "        tecnico_visitante = row['tecnico_visitante']\n",
        "\n",
        "    return pd.Series([tecnico_mandante, tecnico_visitante], index=['tecnico_mandante', 'tecnico_visitante'])"
      ],
      "metadata": {
        "colab": {
          "base_uri": "https://localhost:8080/",
          "height": 425
        },
        "id": "4UT8wgyPrjVK",
        "outputId": "648ab117-8204-45c5-b202-721502406cd4"
      },
      "execution_count": 64,
      "outputs": [
        {
          "output_type": "error",
          "ename": "RateLimitError",
          "evalue": "ignored",
          "traceback": [
            "\u001b[0;31m---------------------------------------------------------------------------\u001b[0m",
            "\u001b[0;31mRateLimitError\u001b[0m                            Traceback (most recent call last)",
            "\u001b[0;32m<ipython-input-64-ff0bf3b6a23f>\u001b[0m in \u001b[0;36m<cell line: 32>\u001b[0;34m()\u001b[0m\n\u001b[1;32m     30\u001b[0m \u001b[0;34m\u001b[0m\u001b[0m\n\u001b[1;32m     31\u001b[0m \u001b[0;31m# Aplique a função 'preencher_tecnicos' para preencher as colunas NaN.\u001b[0m\u001b[0;34m\u001b[0m\u001b[0;34m\u001b[0m\u001b[0m\n\u001b[0;32m---> 32\u001b[0;31m \u001b[0mdf_filtrado\u001b[0m\u001b[0;34m[\u001b[0m\u001b[0;34m[\u001b[0m\u001b[0;34m'tecnico_mandante'\u001b[0m\u001b[0;34m,\u001b[0m \u001b[0;34m'tecnico_visitante'\u001b[0m\u001b[0;34m]\u001b[0m\u001b[0;34m]\u001b[0m \u001b[0;34m=\u001b[0m \u001b[0mdf_filtrado\u001b[0m\u001b[0;34m.\u001b[0m\u001b[0mapply\u001b[0m\u001b[0;34m(\u001b[0m\u001b[0mpreencher_tecnicos\u001b[0m\u001b[0;34m,\u001b[0m \u001b[0maxis\u001b[0m\u001b[0;34m=\u001b[0m\u001b[0;36m1\u001b[0m\u001b[0;34m)\u001b[0m\u001b[0;34m\u001b[0m\u001b[0;34m\u001b[0m\u001b[0m\n\u001b[0m\u001b[1;32m     33\u001b[0m \u001b[0;34m\u001b[0m\u001b[0m\n\u001b[1;32m     34\u001b[0m \u001b[0;31m# Agora, 'df' contém as colunas de técnicos preenchidas usando a API da OpenAI.\u001b[0m\u001b[0;34m\u001b[0m\u001b[0;34m\u001b[0m\u001b[0m\n",
            "\u001b[0;32m/usr/local/lib/python3.10/dist-packages/pandas/core/frame.py\u001b[0m in \u001b[0;36mapply\u001b[0;34m(self, func, axis, raw, result_type, args, **kwargs)\u001b[0m\n\u001b[1;32m   9566\u001b[0m             \u001b[0mkwargs\u001b[0m\u001b[0;34m=\u001b[0m\u001b[0mkwargs\u001b[0m\u001b[0;34m,\u001b[0m\u001b[0;34m\u001b[0m\u001b[0;34m\u001b[0m\u001b[0m\n\u001b[1;32m   9567\u001b[0m         )\n\u001b[0;32m-> 9568\u001b[0;31m         \u001b[0;32mreturn\u001b[0m \u001b[0mop\u001b[0m\u001b[0;34m.\u001b[0m\u001b[0mapply\u001b[0m\u001b[0;34m(\u001b[0m\u001b[0;34m)\u001b[0m\u001b[0;34m.\u001b[0m\u001b[0m__finalize__\u001b[0m\u001b[0;34m(\u001b[0m\u001b[0mself\u001b[0m\u001b[0;34m,\u001b[0m \u001b[0mmethod\u001b[0m\u001b[0;34m=\u001b[0m\u001b[0;34m\"apply\"\u001b[0m\u001b[0;34m)\u001b[0m\u001b[0;34m\u001b[0m\u001b[0;34m\u001b[0m\u001b[0m\n\u001b[0m\u001b[1;32m   9569\u001b[0m \u001b[0;34m\u001b[0m\u001b[0m\n\u001b[1;32m   9570\u001b[0m     def applymap(\n",
            "\u001b[0;32m/usr/local/lib/python3.10/dist-packages/pandas/core/apply.py\u001b[0m in \u001b[0;36mapply\u001b[0;34m(self)\u001b[0m\n\u001b[1;32m    762\u001b[0m             \u001b[0;32mreturn\u001b[0m \u001b[0mself\u001b[0m\u001b[0;34m.\u001b[0m\u001b[0mapply_raw\u001b[0m\u001b[0;34m(\u001b[0m\u001b[0;34m)\u001b[0m\u001b[0;34m\u001b[0m\u001b[0;34m\u001b[0m\u001b[0m\n\u001b[1;32m    763\u001b[0m \u001b[0;34m\u001b[0m\u001b[0m\n\u001b[0;32m--> 764\u001b[0;31m         \u001b[0;32mreturn\u001b[0m \u001b[0mself\u001b[0m\u001b[0;34m.\u001b[0m\u001b[0mapply_standard\u001b[0m\u001b[0;34m(\u001b[0m\u001b[0;34m)\u001b[0m\u001b[0;34m\u001b[0m\u001b[0;34m\u001b[0m\u001b[0m\n\u001b[0m\u001b[1;32m    765\u001b[0m \u001b[0;34m\u001b[0m\u001b[0m\n\u001b[1;32m    766\u001b[0m     \u001b[0;32mdef\u001b[0m \u001b[0magg\u001b[0m\u001b[0;34m(\u001b[0m\u001b[0mself\u001b[0m\u001b[0;34m)\u001b[0m\u001b[0;34m:\u001b[0m\u001b[0;34m\u001b[0m\u001b[0;34m\u001b[0m\u001b[0m\n",
            "\u001b[0;32m/usr/local/lib/python3.10/dist-packages/pandas/core/apply.py\u001b[0m in \u001b[0;36mapply_standard\u001b[0;34m(self)\u001b[0m\n\u001b[1;32m    889\u001b[0m \u001b[0;34m\u001b[0m\u001b[0m\n\u001b[1;32m    890\u001b[0m     \u001b[0;32mdef\u001b[0m \u001b[0mapply_standard\u001b[0m\u001b[0;34m(\u001b[0m\u001b[0mself\u001b[0m\u001b[0;34m)\u001b[0m\u001b[0;34m:\u001b[0m\u001b[0;34m\u001b[0m\u001b[0;34m\u001b[0m\u001b[0m\n\u001b[0;32m--> 891\u001b[0;31m         \u001b[0mresults\u001b[0m\u001b[0;34m,\u001b[0m \u001b[0mres_index\u001b[0m \u001b[0;34m=\u001b[0m \u001b[0mself\u001b[0m\u001b[0;34m.\u001b[0m\u001b[0mapply_series_generator\u001b[0m\u001b[0;34m(\u001b[0m\u001b[0;34m)\u001b[0m\u001b[0;34m\u001b[0m\u001b[0;34m\u001b[0m\u001b[0m\n\u001b[0m\u001b[1;32m    892\u001b[0m \u001b[0;34m\u001b[0m\u001b[0m\n\u001b[1;32m    893\u001b[0m         \u001b[0;31m# wrap results\u001b[0m\u001b[0;34m\u001b[0m\u001b[0;34m\u001b[0m\u001b[0m\n",
            "\u001b[0;32m/usr/local/lib/python3.10/dist-packages/pandas/core/apply.py\u001b[0m in \u001b[0;36mapply_series_generator\u001b[0;34m(self)\u001b[0m\n\u001b[1;32m    905\u001b[0m             \u001b[0;32mfor\u001b[0m \u001b[0mi\u001b[0m\u001b[0;34m,\u001b[0m \u001b[0mv\u001b[0m \u001b[0;32min\u001b[0m \u001b[0menumerate\u001b[0m\u001b[0;34m(\u001b[0m\u001b[0mseries_gen\u001b[0m\u001b[0;34m)\u001b[0m\u001b[0;34m:\u001b[0m\u001b[0;34m\u001b[0m\u001b[0;34m\u001b[0m\u001b[0m\n\u001b[1;32m    906\u001b[0m                 \u001b[0;31m# ignore SettingWithCopy here in case the user mutates\u001b[0m\u001b[0;34m\u001b[0m\u001b[0;34m\u001b[0m\u001b[0m\n\u001b[0;32m--> 907\u001b[0;31m                 \u001b[0mresults\u001b[0m\u001b[0;34m[\u001b[0m\u001b[0mi\u001b[0m\u001b[0;34m]\u001b[0m \u001b[0;34m=\u001b[0m \u001b[0mself\u001b[0m\u001b[0;34m.\u001b[0m\u001b[0mf\u001b[0m\u001b[0;34m(\u001b[0m\u001b[0mv\u001b[0m\u001b[0;34m)\u001b[0m\u001b[0;34m\u001b[0m\u001b[0;34m\u001b[0m\u001b[0m\n\u001b[0m\u001b[1;32m    908\u001b[0m                 \u001b[0;32mif\u001b[0m \u001b[0misinstance\u001b[0m\u001b[0;34m(\u001b[0m\u001b[0mresults\u001b[0m\u001b[0;34m[\u001b[0m\u001b[0mi\u001b[0m\u001b[0;34m]\u001b[0m\u001b[0;34m,\u001b[0m \u001b[0mABCSeries\u001b[0m\u001b[0;34m)\u001b[0m\u001b[0;34m:\u001b[0m\u001b[0;34m\u001b[0m\u001b[0;34m\u001b[0m\u001b[0m\n\u001b[1;32m    909\u001b[0m                     \u001b[0;31m# If we have a view on v, we need to make a copy because\u001b[0m\u001b[0;34m\u001b[0m\u001b[0;34m\u001b[0m\u001b[0m\n",
            "\u001b[0;32m<ipython-input-64-ff0bf3b6a23f>\u001b[0m in \u001b[0;36mpreencher_tecnicos\u001b[0;34m(row)\u001b[0m\n\u001b[1;32m     17\u001b[0m         \u001b[0;31m# Faça a chamada à API para preencher o técnico do time visitante.\u001b[0m\u001b[0;34m\u001b[0m\u001b[0;34m\u001b[0m\u001b[0m\n\u001b[1;32m     18\u001b[0m         \u001b[0mprompt\u001b[0m \u001b[0;34m=\u001b[0m \u001b[0;34mf\"O técnico do time visitante {row['visitante']} em {row['data']} é: \"\u001b[0m\u001b[0;34m\u001b[0m\u001b[0;34m\u001b[0m\u001b[0m\n\u001b[0;32m---> 19\u001b[0;31m         resposta = openai.Completion.create(\n\u001b[0m\u001b[1;32m     20\u001b[0m             \u001b[0mengine\u001b[0m\u001b[0;34m=\u001b[0m\u001b[0;34m\"text-davinci-002\"\u001b[0m\u001b[0;34m,\u001b[0m\u001b[0;34m\u001b[0m\u001b[0;34m\u001b[0m\u001b[0m\n\u001b[1;32m     21\u001b[0m             \u001b[0mprompt\u001b[0m\u001b[0;34m=\u001b[0m\u001b[0mprompt\u001b[0m\u001b[0;34m,\u001b[0m\u001b[0;34m\u001b[0m\u001b[0;34m\u001b[0m\u001b[0m\n",
            "\u001b[0;32m/usr/local/lib/python3.10/dist-packages/openai/api_resources/completion.py\u001b[0m in \u001b[0;36mcreate\u001b[0;34m(cls, *args, **kwargs)\u001b[0m\n\u001b[1;32m     23\u001b[0m         \u001b[0;32mwhile\u001b[0m \u001b[0;32mTrue\u001b[0m\u001b[0;34m:\u001b[0m\u001b[0;34m\u001b[0m\u001b[0;34m\u001b[0m\u001b[0m\n\u001b[1;32m     24\u001b[0m             \u001b[0;32mtry\u001b[0m\u001b[0;34m:\u001b[0m\u001b[0;34m\u001b[0m\u001b[0;34m\u001b[0m\u001b[0m\n\u001b[0;32m---> 25\u001b[0;31m                 \u001b[0;32mreturn\u001b[0m \u001b[0msuper\u001b[0m\u001b[0;34m(\u001b[0m\u001b[0;34m)\u001b[0m\u001b[0;34m.\u001b[0m\u001b[0mcreate\u001b[0m\u001b[0;34m(\u001b[0m\u001b[0;34m*\u001b[0m\u001b[0margs\u001b[0m\u001b[0;34m,\u001b[0m \u001b[0;34m**\u001b[0m\u001b[0mkwargs\u001b[0m\u001b[0;34m)\u001b[0m\u001b[0;34m\u001b[0m\u001b[0;34m\u001b[0m\u001b[0m\n\u001b[0m\u001b[1;32m     26\u001b[0m             \u001b[0;32mexcept\u001b[0m \u001b[0mTryAgain\u001b[0m \u001b[0;32mas\u001b[0m \u001b[0me\u001b[0m\u001b[0;34m:\u001b[0m\u001b[0;34m\u001b[0m\u001b[0;34m\u001b[0m\u001b[0m\n\u001b[1;32m     27\u001b[0m                 \u001b[0;32mif\u001b[0m \u001b[0mtimeout\u001b[0m \u001b[0;32mis\u001b[0m \u001b[0;32mnot\u001b[0m \u001b[0;32mNone\u001b[0m \u001b[0;32mand\u001b[0m \u001b[0mtime\u001b[0m\u001b[0;34m.\u001b[0m\u001b[0mtime\u001b[0m\u001b[0;34m(\u001b[0m\u001b[0;34m)\u001b[0m \u001b[0;34m>\u001b[0m \u001b[0mstart\u001b[0m \u001b[0;34m+\u001b[0m \u001b[0mtimeout\u001b[0m\u001b[0;34m:\u001b[0m\u001b[0;34m\u001b[0m\u001b[0;34m\u001b[0m\u001b[0m\n",
            "\u001b[0;32m/usr/local/lib/python3.10/dist-packages/openai/api_resources/abstract/engine_api_resource.py\u001b[0m in \u001b[0;36mcreate\u001b[0;34m(cls, api_key, api_base, api_type, request_id, api_version, organization, **params)\u001b[0m\n\u001b[1;32m    153\u001b[0m         )\n\u001b[1;32m    154\u001b[0m \u001b[0;34m\u001b[0m\u001b[0m\n\u001b[0;32m--> 155\u001b[0;31m         response, _, api_key = requestor.request(\n\u001b[0m\u001b[1;32m    156\u001b[0m             \u001b[0;34m\"post\"\u001b[0m\u001b[0;34m,\u001b[0m\u001b[0;34m\u001b[0m\u001b[0;34m\u001b[0m\u001b[0m\n\u001b[1;32m    157\u001b[0m             \u001b[0murl\u001b[0m\u001b[0;34m,\u001b[0m\u001b[0;34m\u001b[0m\u001b[0;34m\u001b[0m\u001b[0m\n",
            "\u001b[0;32m/usr/local/lib/python3.10/dist-packages/openai/api_requestor.py\u001b[0m in \u001b[0;36mrequest\u001b[0;34m(self, method, url, params, headers, files, stream, request_id, request_timeout)\u001b[0m\n\u001b[1;32m    297\u001b[0m             \u001b[0mrequest_timeout\u001b[0m\u001b[0;34m=\u001b[0m\u001b[0mrequest_timeout\u001b[0m\u001b[0;34m,\u001b[0m\u001b[0;34m\u001b[0m\u001b[0;34m\u001b[0m\u001b[0m\n\u001b[1;32m    298\u001b[0m         )\n\u001b[0;32m--> 299\u001b[0;31m         \u001b[0mresp\u001b[0m\u001b[0;34m,\u001b[0m \u001b[0mgot_stream\u001b[0m \u001b[0;34m=\u001b[0m \u001b[0mself\u001b[0m\u001b[0;34m.\u001b[0m\u001b[0m_interpret_response\u001b[0m\u001b[0;34m(\u001b[0m\u001b[0mresult\u001b[0m\u001b[0;34m,\u001b[0m \u001b[0mstream\u001b[0m\u001b[0;34m)\u001b[0m\u001b[0;34m\u001b[0m\u001b[0;34m\u001b[0m\u001b[0m\n\u001b[0m\u001b[1;32m    300\u001b[0m         \u001b[0;32mreturn\u001b[0m \u001b[0mresp\u001b[0m\u001b[0;34m,\u001b[0m \u001b[0mgot_stream\u001b[0m\u001b[0;34m,\u001b[0m \u001b[0mself\u001b[0m\u001b[0;34m.\u001b[0m\u001b[0mapi_key\u001b[0m\u001b[0;34m\u001b[0m\u001b[0;34m\u001b[0m\u001b[0m\n\u001b[1;32m    301\u001b[0m \u001b[0;34m\u001b[0m\u001b[0m\n",
            "\u001b[0;32m/usr/local/lib/python3.10/dist-packages/openai/api_requestor.py\u001b[0m in \u001b[0;36m_interpret_response\u001b[0;34m(self, result, stream)\u001b[0m\n\u001b[1;32m    708\u001b[0m         \u001b[0;32melse\u001b[0m\u001b[0;34m:\u001b[0m\u001b[0;34m\u001b[0m\u001b[0;34m\u001b[0m\u001b[0m\n\u001b[1;32m    709\u001b[0m             return (\n\u001b[0;32m--> 710\u001b[0;31m                 self._interpret_response_line(\n\u001b[0m\u001b[1;32m    711\u001b[0m                     \u001b[0mresult\u001b[0m\u001b[0;34m.\u001b[0m\u001b[0mcontent\u001b[0m\u001b[0;34m.\u001b[0m\u001b[0mdecode\u001b[0m\u001b[0;34m(\u001b[0m\u001b[0;34m\"utf-8\"\u001b[0m\u001b[0;34m)\u001b[0m\u001b[0;34m,\u001b[0m\u001b[0;34m\u001b[0m\u001b[0;34m\u001b[0m\u001b[0m\n\u001b[1;32m    712\u001b[0m                     \u001b[0mresult\u001b[0m\u001b[0;34m.\u001b[0m\u001b[0mstatus_code\u001b[0m\u001b[0;34m,\u001b[0m\u001b[0;34m\u001b[0m\u001b[0;34m\u001b[0m\u001b[0m\n",
            "\u001b[0;32m/usr/local/lib/python3.10/dist-packages/openai/api_requestor.py\u001b[0m in \u001b[0;36m_interpret_response_line\u001b[0;34m(self, rbody, rcode, rheaders, stream)\u001b[0m\n\u001b[1;32m    773\u001b[0m         \u001b[0mstream_error\u001b[0m \u001b[0;34m=\u001b[0m \u001b[0mstream\u001b[0m \u001b[0;32mand\u001b[0m \u001b[0;34m\"error\"\u001b[0m \u001b[0;32min\u001b[0m \u001b[0mresp\u001b[0m\u001b[0;34m.\u001b[0m\u001b[0mdata\u001b[0m\u001b[0;34m\u001b[0m\u001b[0;34m\u001b[0m\u001b[0m\n\u001b[1;32m    774\u001b[0m         \u001b[0;32mif\u001b[0m \u001b[0mstream_error\u001b[0m \u001b[0;32mor\u001b[0m \u001b[0;32mnot\u001b[0m \u001b[0;36m200\u001b[0m \u001b[0;34m<=\u001b[0m \u001b[0mrcode\u001b[0m \u001b[0;34m<\u001b[0m \u001b[0;36m300\u001b[0m\u001b[0;34m:\u001b[0m\u001b[0;34m\u001b[0m\u001b[0;34m\u001b[0m\u001b[0m\n\u001b[0;32m--> 775\u001b[0;31m             raise self.handle_error_response(\n\u001b[0m\u001b[1;32m    776\u001b[0m                 \u001b[0mrbody\u001b[0m\u001b[0;34m,\u001b[0m \u001b[0mrcode\u001b[0m\u001b[0;34m,\u001b[0m \u001b[0mresp\u001b[0m\u001b[0;34m.\u001b[0m\u001b[0mdata\u001b[0m\u001b[0;34m,\u001b[0m \u001b[0mrheaders\u001b[0m\u001b[0;34m,\u001b[0m \u001b[0mstream_error\u001b[0m\u001b[0;34m=\u001b[0m\u001b[0mstream_error\u001b[0m\u001b[0;34m\u001b[0m\u001b[0;34m\u001b[0m\u001b[0m\n\u001b[1;32m    777\u001b[0m             )\n",
            "\u001b[0;31mRateLimitError\u001b[0m: Rate limit reached for default-text-davinci-002 in organization org-o1DJ7utOEvayGoAxA2vqLfXD on requests per min. Limit: 3 / min. Please try again in 20s. Contact us through our help center at help.openai.com if you continue to have issues. Please add a payment method to your account to increase your rate limit. Visit https://platform.openai.com/account/billing to add a payment method."
          ]
        }
      ]
    },
    {
      "cell_type": "code",
      "source": [
        "print(df_filtrado)"
      ],
      "metadata": {
        "colab": {
          "base_uri": "https://localhost:8080/"
        },
        "id": "SJnvwiu5sVKS",
        "outputId": "1e02382c-6c31-43d5-afd2-c967037831b7"
      },
      "execution_count": 60,
      "outputs": [
        {
          "output_type": "stream",
          "name": "stdout",
          "text": [
            "        ID  rodada       data   hora       mandante      visitante  \\\n",
            "0     2707       1 2009-05-09  18:30          Sport        Barueri   \n",
            "1     2708       1 2009-05-09  18:30      Palmeiras       Coritiba   \n",
            "2     2709       1 2009-05-09  18:30           Avai    Atletico-MG   \n",
            "3     2710       1 2009-05-10  16:00    Corinthians  Internacional   \n",
            "4     2711       1 2009-05-10  16:00     Fluminense      Sao Paulo   \n",
            "...    ...     ...        ...    ...            ...            ...   \n",
            "5314  8021      38 2022-11-13  16:03         Cuiaba       Coritiba   \n",
            "5315  8022      38 2022-11-13  16:03     Bragantino     Fluminense   \n",
            "5316  8023      38 2022-11-13  16:03    Corinthians    Atletico-MG   \n",
            "5317  8024      38 2022-11-13  16:03  Internacional      Palmeiras   \n",
            "5318  8025      38 2022-11-13  16:03          Goias      Sao Paulo   \n",
            "\n",
            "     formacao_mandante formacao_visitante        tecnico_mandante  \\\n",
            "0                  NaN                NaN                     NaN   \n",
            "1                  NaN                NaN                     NaN   \n",
            "2                  NaN                NaN                     NaN   \n",
            "3                  NaN                NaN                     NaN   \n",
            "4                  NaN                NaN                     NaN   \n",
            "...                ...                ...                     ...   \n",
            "5314           4-1-4-1            4-1-4-1  A. Cardoso de Oliveira   \n",
            "5315           4-2-3-1            4-2-3-1    M. Nogueira Barbieri   \n",
            "5316           4-1-4-1            4-2-3-1  F. J. Monteiro Almeida   \n",
            "5317           4-2-3-1            4-2-3-1    L. Venker de Menezes   \n",
            "5318           4-2-3-1          4-1-2-1-2      J. Ribeiro Ventura   \n",
            "\n",
            "        tecnico_visitante       vencedor                        arena  \\\n",
            "0                     NaN              -               Ilha do Retiro   \n",
            "1                     NaN      Palmeiras              Palestra Itália   \n",
            "2                     NaN              -                    Ressacada   \n",
            "3                     NaN  Internacional                     Pacaembu   \n",
            "4                     NaN     Fluminense                     Maracanã   \n",
            "...                   ...            ...                          ...   \n",
            "5314          A. Ferreira         Cuiaba               Arena Pantanal   \n",
            "5315       F. Diniz Silva     Fluminense                      Nabizão   \n",
            "5316            A. Stival    Atletico-MG            Neo Química Arena   \n",
            "5317  A. Moreira Ferreira  Internacional  Estádio José Pinheiro Borda   \n",
            "5318              R. Ceni      Sao Paulo          Estádio da Serrinha   \n",
            "\n",
            "      mandante_Placar  visitante_Placar mandante_Estado visitante_Estado  \n",
            "0                   1                 1              PE               SP  \n",
            "1                   2                 1              SP               PR  \n",
            "2                   2                 2              SC               MG  \n",
            "3                   0                 1              SP               RS  \n",
            "4                   1                 0              RJ               SP  \n",
            "...               ...               ...             ...              ...  \n",
            "5314                2                 1              MT               PR  \n",
            "5315                0                 1              SP               RJ  \n",
            "5316                0                 1              SP               MG  \n",
            "5317                3                 0              RS               SP  \n",
            "5318                0                 4              GO               SP  \n",
            "\n",
            "[5319 rows x 16 columns]\n"
          ]
        }
      ]
    },
    {
      "cell_type": "markdown",
      "source": [
        "## **L**oad\n",
        "\n",
        "Atualiza o dataframe e preenche o nome de todos os técncios faltantes."
      ],
      "metadata": {
        "id": "kNuP0SDUZMBY"
      }
    },
    {
      "cell_type": "code",
      "source": [
        "# Aplique a função 'preencher_tecnicos' para preencher as colunas NaN.\n",
        "df_filtrado[['tecnico_mandante', 'tecnico_visitante']] = df_filtrado.apply(preencher_tecnicos, axis=1)\n",
        "\n",
        "# Agora, 'df' contém as colunas de técnicos preenchidas usando a API da OpenAI."
      ],
      "metadata": {
        "id": "H2GGtZJ90enp"
      },
      "execution_count": null,
      "outputs": []
    }
  ]
}
